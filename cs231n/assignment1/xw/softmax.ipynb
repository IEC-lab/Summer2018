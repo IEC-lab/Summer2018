{
 "cells": [
  {
   "cell_type": "markdown",
   "metadata": {},
   "source": [
    "# Softmax exercise\n",
    "\n",
    "*Complete and hand in this completed worksheet (including its outputs and any supporting code outside of the worksheet) with your assignment submission. For more details see the [assignments page](http://vision.stanford.edu/teaching/cs231n/assignments.html) on the course website.*\n",
    "\n",
    "This exercise is analogous to the SVM exercise. You will:\n",
    "\n",
    "- implement a fully-vectorized **loss function** for the Softmax classifier\n",
    "- implement the fully-vectorized expression for its **analytic gradient**\n",
    "- **check your implementation** with numerical gradient\n",
    "- use a validation set to **tune the learning rate and regularization** strength\n",
    "- **optimize** the loss function with **SGD**\n",
    "- **visualize** the final learned weights\n"
   ]
  },
  {
   "cell_type": "code",
   "execution_count": 1,
   "metadata": {},
   "outputs": [],
   "source": [
    "import random\n",
    "import numpy as np\n",
    "from cs231n.data_utils import load_CIFAR10\n",
    "import matplotlib.pyplot as plt\n",
    "\n",
    "from __future__ import print_function\n",
    "\n",
    "%matplotlib inline\n",
    "plt.rcParams['figure.figsize'] = (10.0, 8.0) # set default size of plots\n",
    "plt.rcParams['image.interpolation'] = 'nearest'\n",
    "plt.rcParams['image.cmap'] = 'gray'\n",
    "\n",
    "# for auto-reloading extenrnal modules\n",
    "# see http://stackoverflow.com/questions/1907993/autoreload-of-modules-in-ipython\n",
    "%load_ext autoreload\n",
    "%autoreload 2"
   ]
  },
  {
   "cell_type": "code",
   "execution_count": 2,
   "metadata": {},
   "outputs": [
    {
     "name": "stdout",
     "output_type": "stream",
     "text": [
      "Train data shape:  (49000, 3073)\n",
      "Train labels shape:  (49000,)\n",
      "Validation data shape:  (1000, 3073)\n",
      "Validation labels shape:  (1000,)\n",
      "Test data shape:  (1000, 3073)\n",
      "Test labels shape:  (1000,)\n",
      "dev data shape:  (500, 3073)\n",
      "dev labels shape:  (500,)\n"
     ]
    }
   ],
   "source": [
    "def get_CIFAR10_data(num_training=49000, num_validation=1000, num_test=1000, num_dev=500):\n",
    "    \"\"\"\n",
    "    Load the CIFAR-10 dataset from disk and perform preprocessing to prepare\n",
    "    it for the linear classifier. These are the same steps as we used for the\n",
    "    SVM, but condensed to a single function.  \n",
    "    \"\"\"\n",
    "    # Load the raw CIFAR-10 data\n",
    "    cifar10_dir = 'cs231n/datasets/cifar-10-batches-py'\n",
    "    \n",
    "    X_train, y_train, X_test, y_test = load_CIFAR10(cifar10_dir)\n",
    "    \n",
    "    # subsample the data\n",
    "    mask = list(range(num_training, num_training + num_validation))\n",
    "    X_val = X_train[mask]\n",
    "    y_val = y_train[mask]\n",
    "    mask = list(range(num_training))\n",
    "    X_train = X_train[mask]\n",
    "    y_train = y_train[mask]\n",
    "    mask = list(range(num_test))\n",
    "    X_test = X_test[mask]\n",
    "    y_test = y_test[mask]\n",
    "    mask = np.random.choice(num_training, num_dev, replace=False)\n",
    "    X_dev = X_train[mask]\n",
    "    y_dev = y_train[mask]\n",
    "    \n",
    "    # Preprocessing: reshape the image data into rows\n",
    "    X_train = np.reshape(X_train, (X_train.shape[0], -1))\n",
    "    X_val = np.reshape(X_val, (X_val.shape[0], -1))\n",
    "    X_test = np.reshape(X_test, (X_test.shape[0], -1))\n",
    "    X_dev = np.reshape(X_dev, (X_dev.shape[0], -1))\n",
    "    \n",
    "    # Normalize the data: subtract the mean image\n",
    "    mean_image = np.mean(X_train, axis = 0)\n",
    "    X_train -= mean_image\n",
    "    X_val -= mean_image\n",
    "    X_test -= mean_image\n",
    "    X_dev -= mean_image\n",
    "    \n",
    "    # add bias dimension and transform into columns\n",
    "    X_train = np.hstack([X_train, np.ones((X_train.shape[0], 1))])\n",
    "    X_val = np.hstack([X_val, np.ones((X_val.shape[0], 1))])\n",
    "    X_test = np.hstack([X_test, np.ones((X_test.shape[0], 1))])\n",
    "    X_dev = np.hstack([X_dev, np.ones((X_dev.shape[0], 1))])\n",
    "    \n",
    "    return X_train, y_train, X_val, y_val, X_test, y_test, X_dev, y_dev\n",
    "\n",
    "\n",
    "# Cleaning up variables to prevent loading data multiple times (which may cause memory issue)\n",
    "try:\n",
    "   del X_train, y_train\n",
    "   del X_test, y_test\n",
    "   print('Clear previously loaded data.')\n",
    "except:\n",
    "   pass\n",
    "\n",
    "# Invoke the above function to get our data.\n",
    "X_train, y_train, X_val, y_val, X_test, y_test, X_dev, y_dev = get_CIFAR10_data()\n",
    "print('Train data shape: ', X_train.shape)\n",
    "print('Train labels shape: ', y_train.shape)\n",
    "print('Validation data shape: ', X_val.shape)\n",
    "print('Validation labels shape: ', y_val.shape)\n",
    "print('Test data shape: ', X_test.shape)\n",
    "print('Test labels shape: ', y_test.shape)\n",
    "print('dev data shape: ', X_dev.shape)\n",
    "print('dev labels shape: ', y_dev.shape)"
   ]
  },
  {
   "cell_type": "markdown",
   "metadata": {},
   "source": [
    "## Softmax Classifier\n",
    "\n",
    "Your code for this section will all be written inside **cs231n/classifiers/softmax.py**. \n"
   ]
  },
  {
   "cell_type": "code",
   "execution_count": 3,
   "metadata": {},
   "outputs": [
    {
     "name": "stdout",
     "output_type": "stream",
     "text": [
      "loss: 2.401551\n",
      "sanity check: 2.302585\n"
     ]
    }
   ],
   "source": [
    "# First implement the naive softmax loss function with nested loops.\n",
    "# Open the file cs231n/classifiers/softmax.py and implement the\n",
    "# softmax_loss_naive function.\n",
    "\n",
    "from cs231n.classifiers.softmax import softmax_loss_naive\n",
    "import time\n",
    "\n",
    "# Generate a random softmax weight matrix and use it to compute the loss.\n",
    "W = np.random.randn(3073, 10) * 0.0001\n",
    "loss, grad = softmax_loss_naive(W, X_dev, y_dev, 0.0)\n",
    "\n",
    "# As a rough sanity check, our loss should be something close to -log(0.1).\n",
    "print('loss: %f' % loss)\n",
    "print('sanity check: %f' % (-np.log(0.1)))"
   ]
  },
  {
   "cell_type": "markdown",
   "metadata": {},
   "source": [
    "## Inline Question 1:\n",
    "Why do we expect our loss to be close to -log(0.1)? Explain briefly.**\n",
    "\n",
    "**Your answer:** *Fill this in*\n"
   ]
  },
  {
   "cell_type": "code",
   "execution_count": 4,
   "metadata": {},
   "outputs": [
    {
     "name": "stdout",
     "output_type": "stream",
     "text": [
      "numerical: -0.764962 analytic: -0.764962, relative error: 6.737550e-08\n",
      "numerical: -0.446332 analytic: -0.446332, relative error: 7.634579e-09\n",
      "numerical: 2.857799 analytic: 2.857798, relative error: 3.817406e-08\n",
      "numerical: 1.383597 analytic: 1.383597, relative error: 3.748584e-09\n",
      "numerical: -3.988201 analytic: -3.988201, relative error: 2.935254e-09\n",
      "numerical: 1.589966 analytic: 1.589966, relative error: 2.934935e-08\n",
      "numerical: -0.403467 analytic: -0.403467, relative error: 6.648564e-08\n",
      "numerical: -1.111923 analytic: -1.111923, relative error: 4.340426e-08\n",
      "numerical: -2.793386 analytic: -2.793386, relative error: 1.654649e-08\n",
      "numerical: 0.952306 analytic: 0.952306, relative error: 2.721322e-08\n",
      "numerical: -4.682111 analytic: -4.682111, relative error: 1.066280e-08\n",
      "numerical: 0.893259 analytic: 0.893260, relative error: 8.877961e-08\n",
      "numerical: 1.044119 analytic: 1.044119, relative error: 8.425072e-08\n",
      "numerical: -1.637305 analytic: -1.637305, relative error: 1.213776e-08\n",
      "numerical: -2.328332 analytic: -2.328332, relative error: 1.423077e-08\n",
      "numerical: -3.354780 analytic: -3.354780, relative error: 1.751436e-08\n",
      "numerical: 0.105066 analytic: 0.105066, relative error: 3.136435e-07\n",
      "numerical: -0.738473 analytic: -0.738473, relative error: 1.197702e-08\n",
      "numerical: 2.189620 analytic: 2.189620, relative error: 1.691527e-09\n",
      "numerical: 0.660614 analytic: 0.660614, relative error: 8.364712e-08\n"
     ]
    }
   ],
   "source": [
    "# Complete the implementation of softmax_loss_naive and implement a (naive)\n",
    "# version of the gradient that uses nested loops.\n",
    "loss, grad = softmax_loss_naive(W, X_dev, y_dev, 0.0)\n",
    "\n",
    "# As we did for the SVM, use numeric gradient checking as a debugging tool.\n",
    "# The numeric gradient should be close to the analytic gradient.\n",
    "from cs231n.gradient_check import grad_check_sparse\n",
    "f = lambda w: softmax_loss_naive(w, X_dev, y_dev, 0.0)[0]\n",
    "grad_numerical = grad_check_sparse(f, W, grad, 10)\n",
    "\n",
    "# similar to SVM case, do another gradient check with regularization\n",
    "loss, grad = softmax_loss_naive(W, X_dev, y_dev, 5e1)\n",
    "f = lambda w: softmax_loss_naive(w, X_dev, y_dev, 5e1)[0]\n",
    "grad_numerical = grad_check_sparse(f, W, grad, 10)"
   ]
  },
  {
   "cell_type": "code",
   "execution_count": 5,
   "metadata": {},
   "outputs": [
    {
     "name": "stdout",
     "output_type": "stream",
     "text": [
      "naive loss: 2.401551e+00 computed in 0.162875s\n",
      "vectorized loss: 2.401551e+00 computed in 0.010348s\n",
      "Loss difference: 0.000000\n",
      "Gradient difference: 0.000000\n"
     ]
    }
   ],
   "source": [
    "# Now that we have a naive implementation of the softmax loss function and its gradient,\n",
    "# implement a vectorized version in softmax_loss_vectorized.\n",
    "# The two versions should compute the same results, but the vectorized version should be\n",
    "# much faster.\n",
    "tic = time.time()\n",
    "loss_naive, grad_naive = softmax_loss_naive(W, X_dev, y_dev, 0.000005)\n",
    "toc = time.time()\n",
    "print('naive loss: %e computed in %fs' % (loss_naive, toc - tic))\n",
    "\n",
    "from cs231n.classifiers.softmax import softmax_loss_vectorized\n",
    "tic = time.time()\n",
    "loss_vectorized, grad_vectorized = softmax_loss_vectorized(W, X_dev, y_dev, 0.000005)\n",
    "toc = time.time()\n",
    "print('vectorized loss: %e computed in %fs' % (loss_vectorized, toc - tic))\n",
    "\n",
    "# As we did for the SVM, we use the Frobenius norm to compare the two versions\n",
    "# of the gradient.\n",
    "grad_difference = np.linalg.norm(grad_naive - grad_vectorized, ord='fro')\n",
    "print('Loss difference: %f' % np.abs(loss_naive - loss_vectorized))\n",
    "print('Gradient difference: %f' % grad_difference)"
   ]
  },
  {
   "cell_type": "code",
   "execution_count": 6,
   "metadata": {},
   "outputs": [
    {
     "name": "stdout",
     "output_type": "stream",
     "text": [
      "lr 1.000000e-07 reg 1.000000e+04 train accuracy: 0.357490 val accuracy: 0.367000\n",
      "lr 1.000000e-07 reg 1.100000e+04 train accuracy: 0.356735 val accuracy: 0.378000\n",
      "lr 1.000000e-07 reg 1.200000e+04 train accuracy: 0.359469 val accuracy: 0.370000\n",
      "lr 1.000000e-07 reg 1.300000e+04 train accuracy: 0.362082 val accuracy: 0.360000\n",
      "lr 1.000000e-07 reg 1.400000e+04 train accuracy: 0.362959 val accuracy: 0.378000\n",
      "lr 1.000000e-07 reg 1.500000e+04 train accuracy: 0.360878 val accuracy: 0.379000\n",
      "lr 1.000000e-07 reg 1.600000e+04 train accuracy: 0.358837 val accuracy: 0.368000\n",
      "lr 1.000000e-07 reg 1.700000e+04 train accuracy: 0.357980 val accuracy: 0.375000\n",
      "lr 1.000000e-07 reg 1.800000e+04 train accuracy: 0.360143 val accuracy: 0.371000\n",
      "lr 1.000000e-07 reg 1.900000e+04 train accuracy: 0.359082 val accuracy: 0.375000\n",
      "lr 1.000000e-07 reg 2.000000e+04 train accuracy: 0.358857 val accuracy: 0.372000\n",
      "lr 1.000000e-07 reg 2.100000e+04 train accuracy: 0.356245 val accuracy: 0.378000\n",
      "lr 1.000000e-07 reg 2.200000e+04 train accuracy: 0.353000 val accuracy: 0.372000\n",
      "lr 1.000000e-07 reg 2.300000e+04 train accuracy: 0.353531 val accuracy: 0.366000\n",
      "lr 1.000000e-07 reg 2.400000e+04 train accuracy: 0.349592 val accuracy: 0.360000\n",
      "lr 1.000000e-07 reg 2.500000e+04 train accuracy: 0.350347 val accuracy: 0.369000\n",
      "lr 1.000000e-07 reg 2.600000e+04 train accuracy: 0.351000 val accuracy: 0.365000\n",
      "lr 1.000000e-07 reg 2.700000e+04 train accuracy: 0.350816 val accuracy: 0.364000\n",
      "lr 1.000000e-07 reg 2.800000e+04 train accuracy: 0.347163 val accuracy: 0.367000\n",
      "lr 1.000000e-07 reg 2.900000e+04 train accuracy: 0.344102 val accuracy: 0.355000\n",
      "lr 1.000000e-07 reg 3.000000e+04 train accuracy: 0.344367 val accuracy: 0.363000\n",
      "lr 1.000000e-07 reg 3.100000e+04 train accuracy: 0.344000 val accuracy: 0.364000\n",
      "lr 1.000000e-07 reg 3.200000e+04 train accuracy: 0.345714 val accuracy: 0.355000\n",
      "lr 1.000000e-07 reg 3.300000e+04 train accuracy: 0.344102 val accuracy: 0.357000\n",
      "lr 1.000000e-07 reg 3.400000e+04 train accuracy: 0.339939 val accuracy: 0.354000\n",
      "lr 1.000000e-07 reg 3.500000e+04 train accuracy: 0.339204 val accuracy: 0.356000\n",
      "lr 1.000000e-07 reg 3.600000e+04 train accuracy: 0.341306 val accuracy: 0.353000\n",
      "lr 1.000000e-07 reg 3.700000e+04 train accuracy: 0.337388 val accuracy: 0.346000\n",
      "lr 1.000000e-07 reg 3.800000e+04 train accuracy: 0.341000 val accuracy: 0.348000\n",
      "lr 1.000000e-07 reg 3.900000e+04 train accuracy: 0.338796 val accuracy: 0.356000\n",
      "lr 1.000000e-07 reg 4.000000e+04 train accuracy: 0.339571 val accuracy: 0.354000\n",
      "lr 1.000000e-07 reg 4.100000e+04 train accuracy: 0.336633 val accuracy: 0.351000\n",
      "lr 1.000000e-07 reg 4.200000e+04 train accuracy: 0.331837 val accuracy: 0.343000\n",
      "lr 1.000000e-07 reg 4.300000e+04 train accuracy: 0.332061 val accuracy: 0.344000\n",
      "lr 1.000000e-07 reg 4.400000e+04 train accuracy: 0.327367 val accuracy: 0.342000\n",
      "lr 1.000000e-07 reg 4.500000e+04 train accuracy: 0.334531 val accuracy: 0.345000\n",
      "lr 1.000000e-07 reg 4.600000e+04 train accuracy: 0.328510 val accuracy: 0.343000\n",
      "lr 1.000000e-07 reg 4.700000e+04 train accuracy: 0.327939 val accuracy: 0.346000\n",
      "lr 1.000000e-07 reg 4.800000e+04 train accuracy: 0.328592 val accuracy: 0.345000\n",
      "lr 1.000000e-07 reg 4.900000e+04 train accuracy: 0.328776 val accuracy: 0.338000\n",
      "lr 5.000000e-07 reg 1.000000e+04 train accuracy: 0.369245 val accuracy: 0.374000\n",
      "lr 5.000000e-07 reg 1.100000e+04 train accuracy: 0.373000 val accuracy: 0.388000\n",
      "lr 5.000000e-07 reg 1.200000e+04 train accuracy: 0.367184 val accuracy: 0.381000\n",
      "lr 5.000000e-07 reg 1.300000e+04 train accuracy: 0.366041 val accuracy: 0.374000\n",
      "lr 5.000000e-07 reg 1.400000e+04 train accuracy: 0.365143 val accuracy: 0.382000\n",
      "lr 5.000000e-07 reg 1.500000e+04 train accuracy: 0.350531 val accuracy: 0.354000\n",
      "lr 5.000000e-07 reg 1.600000e+04 train accuracy: 0.363980 val accuracy: 0.377000\n",
      "lr 5.000000e-07 reg 1.700000e+04 train accuracy: 0.355102 val accuracy: 0.367000\n",
      "lr 5.000000e-07 reg 1.800000e+04 train accuracy: 0.348694 val accuracy: 0.361000\n",
      "lr 5.000000e-07 reg 1.900000e+04 train accuracy: 0.343980 val accuracy: 0.356000\n",
      "lr 5.000000e-07 reg 2.000000e+04 train accuracy: 0.349245 val accuracy: 0.354000\n",
      "lr 5.000000e-07 reg 2.100000e+04 train accuracy: 0.342755 val accuracy: 0.351000\n",
      "lr 5.000000e-07 reg 2.200000e+04 train accuracy: 0.355122 val accuracy: 0.380000\n",
      "lr 5.000000e-07 reg 2.300000e+04 train accuracy: 0.348653 val accuracy: 0.358000\n",
      "lr 5.000000e-07 reg 2.400000e+04 train accuracy: 0.352755 val accuracy: 0.366000\n",
      "lr 5.000000e-07 reg 2.500000e+04 train accuracy: 0.343143 val accuracy: 0.357000\n",
      "lr 5.000000e-07 reg 2.600000e+04 train accuracy: 0.345449 val accuracy: 0.339000\n",
      "lr 5.000000e-07 reg 2.700000e+04 train accuracy: 0.341490 val accuracy: 0.350000\n",
      "lr 5.000000e-07 reg 2.800000e+04 train accuracy: 0.346224 val accuracy: 0.348000\n",
      "lr 5.000000e-07 reg 2.900000e+04 train accuracy: 0.344429 val accuracy: 0.357000\n",
      "lr 5.000000e-07 reg 3.000000e+04 train accuracy: 0.348082 val accuracy: 0.353000\n",
      "lr 5.000000e-07 reg 3.100000e+04 train accuracy: 0.340184 val accuracy: 0.357000\n",
      "lr 5.000000e-07 reg 3.200000e+04 train accuracy: 0.341327 val accuracy: 0.359000\n",
      "lr 5.000000e-07 reg 3.300000e+04 train accuracy: 0.338653 val accuracy: 0.357000\n",
      "lr 5.000000e-07 reg 3.400000e+04 train accuracy: 0.335449 val accuracy: 0.341000\n",
      "lr 5.000000e-07 reg 3.500000e+04 train accuracy: 0.336796 val accuracy: 0.341000\n",
      "lr 5.000000e-07 reg 3.600000e+04 train accuracy: 0.340633 val accuracy: 0.354000\n",
      "lr 5.000000e-07 reg 3.700000e+04 train accuracy: 0.328143 val accuracy: 0.347000\n",
      "lr 5.000000e-07 reg 3.800000e+04 train accuracy: 0.332429 val accuracy: 0.348000\n",
      "lr 5.000000e-07 reg 3.900000e+04 train accuracy: 0.333020 val accuracy: 0.342000\n",
      "lr 5.000000e-07 reg 4.000000e+04 train accuracy: 0.317367 val accuracy: 0.328000\n",
      "lr 5.000000e-07 reg 4.100000e+04 train accuracy: 0.336041 val accuracy: 0.343000\n",
      "lr 5.000000e-07 reg 4.200000e+04 train accuracy: 0.316347 val accuracy: 0.336000\n",
      "lr 5.000000e-07 reg 4.300000e+04 train accuracy: 0.322796 val accuracy: 0.338000\n",
      "lr 5.000000e-07 reg 4.400000e+04 train accuracy: 0.339918 val accuracy: 0.349000\n",
      "lr 5.000000e-07 reg 4.500000e+04 train accuracy: 0.331469 val accuracy: 0.342000\n",
      "lr 5.000000e-07 reg 4.600000e+04 train accuracy: 0.327633 val accuracy: 0.337000\n",
      "lr 5.000000e-07 reg 4.700000e+04 train accuracy: 0.321776 val accuracy: 0.339000\n",
      "lr 5.000000e-07 reg 4.800000e+04 train accuracy: 0.334224 val accuracy: 0.349000\n",
      "lr 5.000000e-07 reg 4.900000e+04 train accuracy: 0.330020 val accuracy: 0.338000\n",
      "best validation accuracy achieved during cross-validation: 0.388000\n"
     ]
    }
   ],
   "source": [
    "# Use the validation set to tune hyperparameters (regularization strength and\n",
    "# learning rate). You should experiment with different ranges for the learning\n",
    "# rates and regularization strengths; if you are careful you should be able to\n",
    "# get a classification accuracy of over 0.35 on the validation set.\n",
    "from cs231n.classifiers import Softmax\n",
    "results = {}\n",
    "best_val = -1\n",
    "best_softmax = None\n",
    "learning_rates = [1e-7, 5e-7]\n",
    "regularization_strengths = [(j+0.1*i)*1e4 for j in range(1,5) for i in range(0,10)]\n",
    "\n",
    "################################################################################\n",
    "# TODO:                                                                        #\n",
    "# Use the validation set to set the learning rate and regularization strength. #\n",
    "# This should be identical to the validation that you did for the SVM; save    #\n",
    "# the best trained softmax classifer in best_softmax.                          #\n",
    "################################################################################\n",
    "################################################################################\n",
    "for lr in learning_rates:\n",
    "    for rs in regularization_strengths:\n",
    "        softmax = Softmax()\n",
    "        softmax.train(X_train, y_train, lr, rs, num_iters=2000)\n",
    "        y_train_pred = softmax.predict(X_train)\n",
    "        train_accuracy = np.mean(y_train == y_train_pred)\n",
    "        y_val_pred = softmax.predict(X_val)\n",
    "        val_accuracy = np.mean(y_val == y_val_pred)\n",
    "        if val_accuracy > best_val:\n",
    "            best_val = val_accuracy\n",
    "            best_softmax = softmax           \n",
    "        results[(lr,rs)] = train_accuracy, val_accuracy\n",
    "################################################################################\n",
    "#                              END OF YOUR CODE                                #\n",
    "################################################################################\n",
    "    \n",
    "# Print out results.\n",
    "for lr, reg in sorted(results):\n",
    "    train_accuracy, val_accuracy = results[(lr, reg)]\n",
    "    print('lr %e reg %e train accuracy: %f val accuracy: %f' % (\n",
    "                lr, reg, train_accuracy, val_accuracy))\n",
    "    \n",
    "print('best validation accuracy achieved during cross-validation: %f' % best_val)"
   ]
  },
  {
   "cell_type": "code",
   "execution_count": 7,
   "metadata": {},
   "outputs": [
    {
     "name": "stdout",
     "output_type": "stream",
     "text": [
      "softmax on raw pixels final test set accuracy: 0.380000\n"
     ]
    }
   ],
   "source": [
    "# evaluate on test set\n",
    "# Evaluate the best softmax on test set\n",
    "y_test_pred = best_softmax.predict(X_test)\n",
    "test_accuracy = np.mean(y_test == y_test_pred)\n",
    "print('softmax on raw pixels final test set accuracy: %f' % (test_accuracy, ))"
   ]
  },
  {
   "cell_type": "markdown",
   "metadata": {},
   "source": [
    "**Inline Question** - *True or False*\n",
    "\n",
    "It's possible to add a new datapoint to a training set that would leave the SVM loss unchanged, but this is not the case with the Softmax classifier loss.\n",
    "\n",
    "*Your answer*:\n",
    "\n",
    "*Your explanation*:"
   ]
  },
  {
   "cell_type": "code",
   "execution_count": 8,
   "metadata": {},
   "outputs": [
    {
     "data": {
      "image/png": "[encoded data removed]",
      "text/plain": [
       "<Figure size 432x288 with 10 Axes>"
      ]
     },
     "metadata": {},
     "output_type": "display_data"
    }
   ],
   "source": [
    "# Visualize the learned weights for each class\n",
    "w = best_softmax.W[:-1,:] # strip out the bias\n",
    "w = w.reshape(32, 32, 3, 10)\n",
    "\n",
    "w_min, w_max = np.min(w), np.max(w)\n",
    "\n",
    "classes = ['plane', 'car', 'bird', 'cat', 'deer', 'dog', 'frog', 'horse', 'ship', 'truck']\n",
    "for i in range(10):\n",
    "    plt.subplot(2, 5, i + 1)\n",
    "    \n",
    "    # Rescale the weights to be between 0 and 255\n",
    "    wimg = 255.0 * (w[:, :, :, i].squeeze() - w_min) / (w_max - w_min)\n",
    "    plt.imshow(wimg.astype('uint8'))\n",
    "    plt.axis('off')\n",
    "    plt.title(classes[i])"
   ]
  }
 ],
 "metadata": {
  "kernelspec": {
   "display_name": "Python 3",
   "language": "python",
   "name": "python3"
  },
  "language_info": {
   "codemirror_mode": {
    "name": "ipython",
    "version": 3
   },
   "file_extension": ".py",
   "mimetype": "text/x-python",
   "name": "python",
   "nbconvert_exporter": "python",
   "pygments_lexer": "ipython3",
   "version": "3.6.5"
  }
 },
 "nbformat": 4,
 "nbformat_minor": 1
}
